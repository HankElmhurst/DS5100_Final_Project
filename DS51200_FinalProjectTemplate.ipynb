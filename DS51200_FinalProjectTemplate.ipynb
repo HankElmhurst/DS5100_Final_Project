{
 "cells": [
  {
   "cell_type": "markdown",
   "id": "acf756c1-ecaa-41dc-b6ca-d566eb94560b",
   "metadata": {
    "jp-MarkdownHeadingCollapsed": true
   },
   "source": [
    "# Instructions\n",
    "\n",
    "Follow the instructions in the Final Project isntructions notebook and put evidence of your work in this notebook.\n",
    "\n",
    "Total points for each subsection under **Deliverables** and **Scenarios** are given in parentheses.\n",
    "\n",
    "Breakdowns of points within subsections are specified within subsection instructions as bulleted lists.\n",
    "\n",
    "This project is worth **50 points**."
   ]
  },
  {
   "cell_type": "markdown",
   "id": "45762487-d33f-486d-8e38-2cdea04e3528",
   "metadata": {
    "jp-MarkdownHeadingCollapsed": true
   },
   "source": [
    "# Final Project Report\n",
    "\n",
    "* Class: DS 5100\n",
    "* Student Name: Hang Yu\n",
    "* Student Net ID: zdd3ga\n",
    "* This URL: a URL to the notebook source of this document"
   ]
  },
  {
   "cell_type": "markdown",
   "id": "89dc7a32-f682-4402-8c1e-b6ccdb3e0e39",
   "metadata": {},
   "source": [
    "# Deliverables"
   ]
  },
  {
   "cell_type": "markdown",
   "id": "d32cb273-9a40-4909-a7ce-51f6e4958d3c",
   "metadata": {},
   "source": [
    "## The Monte Carlo Module (10)\n",
    "\n",
    "- URL included, appropriately named (1).\n",
    "- Includes all three specified classes (3).\n",
    "- Includes at least all 12 specified methods (6; .5 each)."
   ]
  },
  {
   "cell_type": "markdown",
   "id": "f5f3b070-de9e-4de9-bfae-8974d184aa28",
   "metadata": {},
   "source": [
    "Put the URL to your GitHub repo here.\n",
    "\n",
    "Repo URL: https://github.com/HankElmhurst/DS5100_Final_Project/tree/main"
   ]
  },
  {
   "cell_type": "markdown",
   "id": "162370fb-3729-4c85-b040-8c25b2c966d2",
   "metadata": {},
   "source": [
    "Paste a copy of your module here.\n",
    "\n",
    "NOTE: Paste as text, not as code. Use triple backticks to wrap your code blocks."
   ]
  },
  {
   "cell_type": "markdown",
   "id": "65407162-298b-4b6a-b091-7c58acd9a2d8",
   "metadata": {},
   "source": [
    "```python\n",
    "import numpy as np\n",
    "import pandas as pd\n",
    "import random\n",
    "\n",
    "class Die:\n",
    "    \"\"\"\n",
    "    A Die has faces and associated weights, and can be rolled to select a face.\n",
    "    Faces must be unique. Weights default to 1.0 and can be updated.\n",
    "    \"\"\"\n",
    "\n",
    "    def __init__(self, faces):\n",
    "        \"\"\"\n",
    "        Initializes the Die object with faces and equal weights.\n",
    "\n",
    "        Args:\n",
    "            faces (np.ndarray): A NumPy array of unique face values (strings or numbers).\n",
    "\n",
    "        Raises:\n",
    "            TypeError: If faces is not a NumPy array.\n",
    "            ValueError: If face values are not unique.\n",
    "        \"\"\"\n",
    "        if not isinstance(faces, np.ndarray):\n",
    "            raise TypeError(\"Faces must be provided as a NumPy array.\")\n",
    "        if len(np.unique(faces)) != len(faces):\n",
    "            raise ValueError(\"Face values must be unique.\")\n",
    "\n",
    "        self._df = pd.DataFrame({\"weight\": np.ones(len(faces))}, index=faces)\n",
    "\n",
    "    def change_weight(self, face, new_weight):\n",
    "        \"\"\"\n",
    "        Change the weight for a given face.\n",
    "\n",
    "        Args:\n",
    "            face: The face value whose weight is to be changed.\n",
    "            new_weight: A numeric value (int or float) for the new weight.\n",
    "\n",
    "        Raises:\n",
    "            IndexError: If face is not in the die.\n",
    "            TypeError: If new_weight is not numeric or castable as float.\n",
    "        \"\"\"\n",
    "        if face not in self._df.index:\n",
    "            raise IndexError(\"Face not found in the die.\")\n",
    "        try:\n",
    "            self._df.loc[face, \"weight\"] = float(new_weight)\n",
    "        except ValueError:\n",
    "            raise TypeError(\"Weight must be numeric or castable to float.\")\n",
    "\n",
    "    def roll(self, n_rolls=1):\n",
    "        \"\"\"\n",
    "        Roll the die a number of times.\n",
    "\n",
    "        Args:\n",
    "            n_rolls (int): Number of times to roll. Defaults to 1.\n",
    "\n",
    "        Returns:\n",
    "            list: List of outcomes.\n",
    "        \"\"\"\n",
    "        return random.choices(\n",
    "            population=self._df.index.tolist(),\n",
    "            weights=self._df[\"weight\"].tolist(),\n",
    "            k=n_rolls\n",
    "        )\n",
    "\n",
    "    def show(self):\n",
    "        \"\"\"\n",
    "        Show current die faces and weights.\n",
    "\n",
    "        Returns:\n",
    "            pd.DataFrame: A copy of the die's internal state.\n",
    "        \"\"\"\n",
    "        return self._df.copy()\n",
    "\n",
    "\n",
    "import pandas as pd\n",
    "from die import Die\n",
    "\n",
    "class Game:\n",
    "    \"\"\"\n",
    "    A Game object consists of rolling one or more Die objects a given number of times.\n",
    "    Stores only the result of the most recent play.\n",
    "    \"\"\"\n",
    "\n",
    "    def __init__(self, dice):\n",
    "        \"\"\"\n",
    "        Initializes a Game with a list of similar Die objects.\n",
    "\n",
    "        Args:\n",
    "            dice (list): A list of Die objects.\n",
    "        \"\"\"\n",
    "        self.dice = dice\n",
    "        self._play_df = pd.DataFrame()\n",
    "\n",
    "    def play(self, num_rolls):\n",
    "        \"\"\"\n",
    "        Rolls the dice a given number of times and stores the result.\n",
    "\n",
    "        Args:\n",
    "            num_rolls (int): Number of times to roll the dice.\n",
    "        \"\"\"\n",
    "        results = {i: die.roll(num_rolls) \n",
    "                   for i, die in enumerate(self.dice)}\n",
    "        self._play_df = pd.DataFrame(results)\n",
    "        self._play_df.index.name = 'Roll'\n",
    "\n",
    "    def show_results(self, form='wide'):\n",
    "        \"\"\"\n",
    "        Returns the results of the most recent play.\n",
    "\n",
    "        Args:\n",
    "            form (str): Either 'wide' (default) or 'narrow'.\n",
    "\n",
    "        Returns:\n",
    "            pd.DataFrame: Results in the specified format.\n",
    "\n",
    "        Raises:\n",
    "            ValueError: If form is not 'wide' or 'narrow'.\n",
    "        \"\"\"\n",
    "        if form == 'wide':\n",
    "            return self._play_df.copy()\n",
    "        elif form == 'narrow':\n",
    "            return self._play_df.stack().to_frame('Face')\n",
    "        else:\n",
    "            raise ValueError(\"Form must be 'wide' or 'narrow'.\")\n",
    "\n",
    "\n",
    "import pandas as pd\n",
    "from game import Game\n",
    "\n",
    "class Analyzer:\n",
    "    \"\"\"\n",
    "    Analyzer performs statistical analysis on a Game object's most recent play.\n",
    "    \"\"\"\n",
    "\n",
    "    def __init__(self, game):\n",
    "        \"\"\"\n",
    "        Initializes the Analyzer with a Game object.\n",
    "\n",
    "        Args:\n",
    "            game (Game): A Game instance.\n",
    "\n",
    "        Raises:\n",
    "            ValueError: If input is not a Game instance.\n",
    "        \"\"\"\n",
    "        if not isinstance(game, Game):\n",
    "            raise ValueError(\"Input must be a Game object.\")\n",
    "\n",
    "        self.game = game\n",
    "\n",
    "    def jackpot(self):\n",
    "        \"\"\"\n",
    "        Counts how many times all dice rolled the same face.\n",
    "\n",
    "        Returns:\n",
    "            int: Number of jackpots.\n",
    "        \"\"\"\n",
    "        df = self.game.show_results()\n",
    "        # counts the unique face value(s) in each turn of the roll\n",
    "        return (df.nunique(axis=1) == 1).sum()\n",
    "\n",
    "    def face_counts_per_roll(self):\n",
    "        \"\"\"\n",
    "        Counts occurrences of each face per roll.\n",
    "\n",
    "        Returns:\n",
    "            pd.DataFrame: Roll index, face columns, count values.\n",
    "        \"\"\"\n",
    "        df = self.game.show_results()\n",
    "        return df.apply(lambda row: row.value_counts(), axis=1).fillna(0).astype(int)\n",
    "\n",
    "    def combo_count(self):\n",
    "        \"\"\"\n",
    "        Counts order-independent combinations and their frequencies.\n",
    "\n",
    "        Returns:\n",
    "            pd.DataFrame: MultiIndex of combinations with count.\n",
    "        \"\"\"\n",
    "        df = self.game.show_results()\n",
    "        combos = df.apply(lambda row: tuple(sorted(row)), axis=1)\n",
    "        combo_counts = combos.value_counts().to_frame('Count')\n",
    "        combo_counts.index.name = 'Combination'\n",
    "        return combo_counts\n",
    "\n",
    "    def permutation_count(self):\n",
    "        \"\"\"\n",
    "        Counts order-dependent permutations and their frequencies.\n",
    "\n",
    "        Returns:\n",
    "            pd.DataFrame: MultiIndex of permutations with count.\n",
    "        \"\"\"\n",
    "        df = self.game.show_results()\n",
    "        perms = df.apply(lambda row: tuple(row), axis=1)\n",
    "        perm_counts = perms.value_counts().to_frame('Count')\n",
    "        perm_counts.index.name = 'Permutation'\n",
    "        return perm_counts\n",
    "```\n"
   ]
  },
  {
   "cell_type": "markdown",
   "id": "6377727a-8f0a-491e-9f1c-d9dc225edd35",
   "metadata": {},
   "source": [
    "## Unitest Module (2)\n",
    "\n",
    "Paste a copy of your test module below.\n",
    "\n",
    "NOTE: Paste as text, not as code. Use triple backticks to wrap your code blocks.\n",
    "\n",
    "- All methods have at least one test method (1).\n",
    "- Each method employs one of Unittest's Assert methods (1)."
   ]
  },
  {
   "cell_type": "markdown",
   "id": "023ff2a2-4f80-47b7-a018-44520a724cab",
   "metadata": {},
   "source": [
    "```python\n",
    "import unittest\r\n",
    "import numpy as np\r\n",
    "import pandas as pd\r\n",
    "from die import Die\r\n",
    "\r\n",
    "class TestDie(unittest.TestCase):\r\n",
    "    def setUp(self):\r\n",
    "        self.faces = np.array([1, 2, 3])\r\n",
    "        self.die = Die(self.faces)\r\n",
    "\r\n",
    "    def test_init_requires_numpy_array(self):\r\n",
    "        with self.assertRaises(TypeError):\r\n",
    "            Die([1, 2, 3])  # not a numpy array\r\n",
    "\r\n",
    "    def test_init_requires_distinct_faces(self):\r\n",
    "        with self.assertRaises(ValueError):\r\n",
    "            Die(np.array([1, 1, 2]))  # duplicates\r\n",
    "\r\n",
    "    def test_default_weights(self):\r\n",
    "        df = self.die.show()\r\n",
    "        self.assertTrue((df['weight'] == 1.0).all())\r\n",
    "\r\n",
    "    def test_change_weight_invalid_face(self):\r\n",
    "        with self.assertRaises(IndexError):\r\n",
    "            self.die.change_weight(999, 2.0)\r\n",
    "\r\n",
    "    def test_change_weight_invalid_weight_type(self):\r\n",
    "        with self.assertRaises(TypeError):\r\n",
    "            self.die.change_weight(1, \"invalid\")\r\n",
    "\r\n",
    "    def test_roll_returns_list_of_correct_length(self):\r\n",
    "        result = self.die.roll(5)\r\n",
    "        self.assertIsInstance(result, list)\r\n",
    "        self.assertEqual(len(result), 5)\r\n",
    "\r\n",
    "    def test_show_returns_copy(self):\r\n",
    "        df1 = self.die.show()\r\n",
    "        df2 = self.die.show()\r\n",
    "        df1.iloc[0,0] = None\r\n",
    "        self.assertNotEqual(df1.iloc[0,0], df2.iloc[0,0])\r\n",
    "\r\n",
    "if __name__ == '\n",
    "\n",
    "import unittest\r\n",
    "import numpy as np\r\n",
    "import pandas as pd\r\n",
    "from die import Die\r\n",
    "from game import Game\r\n",
    "\r\n",
    "class TestGame(unittest.TestCase):\r\n",
    "    def setUp(self):\r\n",
    "        faces = np.array(['A','B'])\r\n",
    "        d1 = Die(faces)\r\n",
    "        d2 = Die(faces)\r\n",
    "        self.game = Game([d1, d2])\r\n",
    "\r\n",
    "    def test_play_and_show_wide(self):\r\n",
    "        self.game.play(3)\r\n",
    "        df = self.game.show_results()\r\n",
    "        self.assertEqual(df.shape, (3, 2))\r\n",
    "\r\n",
    "    def test_show_narrow_format(self):\r\n",
    "        self.game.play(3)\r\n",
    "        df = self.game.show_results(form='narrow')\r\n",
    "        self.assertIsInstance(df, pd.DataFrame)\r\n",
    "        self.assertIsInstance(df.index, pd.MultiIndex)\r\n",
    "        self.assertEqual(df.shape[1], 1)\r\n",
    "\r\n",
    "    def test_show_invalid_format_raises(self):\r\n",
    "        self.game.play(1)\r\n",
    "        with self.assertRaises(ValueError):\r\n",
    "            self.game.show_results(form='invalid')\r\n",
    "\r\n",
    "if __name__ == '__main__':\r\n",
    "\n",
    "import unittest\r\n",
    "import numpy as np\r\n",
    "import pandas as pd\r\n",
    "from die import Die\r\n",
    "from game import Game\r\n",
    "from analyzer import Analyzer\r\n",
    "\r\n",
    "class TestAnalyzer(unittest.TestCase):\r\n",
    "    def setUp(self):\r\n",
    "        faces = np.array([1,2,3])\r\n",
    "        dice = [Die(faces) for _ in range(3)]\r\n",
    "        self.game = Game(dice)\r\n",
    "        self.game.play(5)\r\n",
    "        self.analyzer = Analyzer(self.game)\r\n",
    "\r\n",
    "    def test_init_requires_game_object(self):\r\n",
    "        with self.assertRaises(ValueError):\r\n",
    "            Analyzer(\"not a game\")\r\n",
    "\r\n",
    "    def test_jackpot_count(self):\r\n",
    "        # force two jackpots\r\n",
    "        self.analyzer.game._play_df = pd.DataFrame({ \r\n",
    "            0:[1,1], \r\n",
    "            1:[1,1], \r\n",
    "            2:[1,1] \r\n",
    "            }, index=[0,1])\r\n",
    "        self.assertEqual(self.analyzer.jackpot(), 2)\r\n",
    "\r\n",
    "    def test_face_counts_per_roll_structure(self):\r\n",
    "        df = self.analyzer.face_counts_per_roll()\r\n",
    "        self.assertIsInstance(df, pd.DataFrame)\r\n",
    "        # columns should match the full set of possible faces\r\n",
    "        expected_faces = sorted(self.analyzer.game.dice[0].\r\n",
    "                                show()     # get the full set of faces via Die.show()\r\n",
    "                                .index.tolist())\r\n",
    "        self.assertListEqual(sorted(df.columns.tolist()), expected_faces)\r\n",
    "\r\n",
    "    def test_combo_count_returns_dataframe(self):\r\n",
    "        df = self.analyzer.combo_count()\r\n",
    "        self.assertIsInstance(df, pd.DataFrame)\r\n",
    "        self.assertIn('Count', df.columns)\r\n",
    "\r\n",
    "    def test_permutation_count_returns_dataframe(self):\r\n",
    "        df = self.analyzer.permutation_count()\r\n",
    "        self.assertIsInstance(df, pd.DataFrame)\r\n",
    "        self.assertIn('Count', df.columns)\r\n",
    "\r\n",
    "if __name__ == '__main__':\r\n",
    "    unittest.main(verbosity=2)     unittest.main(verbosity=2)    __main__':\r\n",
    "    unittest.main(verbosity=2)"
   ]
  },
  {
   "cell_type": "markdown",
   "id": "3e058d03-29bc-408f-b36d-0605b4f4b8c0",
   "metadata": {
    "tags": []
   },
   "source": [
    "## Unittest Results (3)\n",
    "\n",
    "Put a copy of the results of running your tests from the command line here.\n",
    "\n",
    "Again, paste as text using triple backticks.\n",
    "\n",
    "- All 12 specified methods return OK (3; .25 each)."
   ]
  },
  {
   "cell_type": "raw",
   "id": "225f68cb-fe0e-4b5c-bf66-5013c3605a5e",
   "metadata": {
    "tags": []
   },
   "source": [
    "# A text block with the output of a successful test.\n",
    "$ C:/Users/hangy/AppData/Local/Programs/Python/Python313/python.exe \"c:/Users/hangy/OneDrive/Data Science/Programming for Data Science - DS 5100/ds5100_final_project_files/test_die.py\"\n",
    "test_change_weight_invalid_face (__main__.TestDie.test_change_weight_invalid_face) ... ok\n",
    "test_change_weight_invalid_weight_type (__main__.TestDie.test_change_weight_invalid_weight_type) ... ok\n",
    "test_default_weights (__main__.TestDie.test_default_weights) ... ok\n",
    "test_init_requires_distinct_faces (__main__.TestDie.test_init_requires_distinct_faces) ... ok\n",
    "test_init_requires_numpy_array (__main__.TestDie.test_init_requires_numpy_array) ... ok\n",
    "test_roll_returns_list_of_correct_length (__main__.TestDie.test_roll_returns_list_of_correct_length) ... ok\n",
    "test_show_returns_copy (__main__.TestDie.test_show_returns_copy) ... ok\n",
    "\n",
    "----------------------------------------------------------------------\n",
    "Ran 7 tests in 0.009s\n",
    "\n",
    "OK\n",
    "\n",
    "$ C:/Users/hangy/AppData/Local/Programs/Python/Python313/python.exe \"c:/Users/hangy/OneDrive/Data Science/Programming for Data Science - DS 5100/ds5100_final_project_files/test_game.py\"\n",
    "test_play_and_show_wide (__main__.TestGame.test_play_and_show_wide) ... ok\n",
    "test_show_invalid_format_raises (__main__.TestGame.test_show_invalid_format_raises) ... ok\n",
    "test_show_narrow_format (__main__.TestGame.test_show_narrow_format) ... ok\n",
    "\n",
    "----------------------------------------------------------------------\n",
    "Ran 3 tests in 0.006s\n",
    "\n",
    "OK\n",
    "\n",
    "$ C:/Users/hangy/AppData/Local/Programs/Python/Python313/python.exe \"c:/Users/hangy/OneDrive/Data Science/Programming for Data Science - DS 5100/ds5100_final_project_files/test_analyzer.py\"\n",
    "test_combo_count_returns_dataframe (__main__.TestAnalyzer.test_combo_count_returns_dataframe) ... ok\n",
    "test_face_counts_per_roll_structure (__main__.TestAnalyzer.test_face_counts_per_roll_structure) ... ok\n",
    "test_init_requires_game_object (__main__.TestAnalyzer.test_init_requires_game_object) ... ok\n",
    "test_jackpot_count (__main__.TestAnalyzer.test_jackpot_count) ... ok\n",
    "test_permutation_count_returns_dataframe (__main__.TestAnalyzer.test_permutation_count_returns_dataframe) ... ok\n",
    "\n",
    "----------------------------------------------------------------------\n",
    "Ran 5 tests in 0.010s\n",
    "\n",
    "OK"
   ]
  },
  {
   "cell_type": "markdown",
   "id": "d9ffe8c5-eb2f-4ad1-af76-a46550e4c7ac",
   "metadata": {},
   "source": [
    "## Import (1)\n",
    "\n",
    "Import your module here. This import should refer to the code in your package directory.\n",
    "\n",
    "- Module successuflly imported (1)."
   ]
  },
  {
   "cell_type": "code",
   "execution_count": 12,
   "id": "a05dffb3-e6d6-4f78-9df4-5abd0cf74ca9",
   "metadata": {
    "tags": []
   },
   "outputs": [
    {
     "name": "stdout",
     "output_type": "stream",
     "text": [
      "Die, Game, and Analyzer imported successfully: <class 'die.Die'> <class 'game.Game'> <class 'analyzer.Analyzer'>\n"
     ]
    }
   ],
   "source": [
    "# e.g. import montecarlo.montecarlo \n",
    "from die import Die\n",
    "from game import Game\n",
    "from analyzer import Analyzer\n",
    "\n",
    "print(\"Die, Game, and Analyzer imported successfully:\", Die, Game, Analyzer)"
   ]
  },
  {
   "cell_type": "markdown",
   "id": "f30c4842-65b1-4556-98b6-3fe1a07e1371",
   "metadata": {},
   "source": [
    "## Help Docs (4)\n",
    "\n",
    "Show your docstring documentation by applying `help()` to your imported module.\n",
    "\n",
    "- All methods have a docstring (3; .25 each).\n",
    "- All classes have a docstring (1; .33 each)."
   ]
  },
  {
   "cell_type": "code",
   "execution_count": 14,
   "id": "bf4fbf1f-9885-471c-a0a6-e9ca90e160de",
   "metadata": {
    "tags": []
   },
   "outputs": [
    {
     "name": "stdout",
     "output_type": "stream",
     "text": [
      "Help on class Die in module die:\n",
      "\n",
      "class Die(builtins.object)\n",
      " |  Die(faces)\n",
      " |\n",
      " |  A Die has faces and associated weights, and can be rolled to select a face.\n",
      " |  Faces must be unique. Weights default to 1.0 and can be updated.\n",
      " |\n",
      " |  Methods defined here:\n",
      " |\n",
      " |  __init__(self, faces)\n",
      " |      Initializes the Die object with faces and equal weights.\n",
      " |\n",
      " |      Args:\n",
      " |          faces (np.ndarray): A NumPy array of unique face values (strings or numbers).\n",
      " |\n",
      " |      Raises:\n",
      " |          TypeError: If faces is not a NumPy array.\n",
      " |          ValueError: If face values are not unique.\n",
      " |\n",
      " |  change_weight(self, face, new_weight)\n",
      " |      Change the weight for a given face.\n",
      " |\n",
      " |      Args:\n",
      " |          face: The face value whose weight is to be changed.\n",
      " |          new_weight: A numeric value (int or float) for the new weight.\n",
      " |\n",
      " |      Raises:\n",
      " |          IndexError: If face is not in the die.\n",
      " |          TypeError: If new_weight is not numeric or castable as float.\n",
      " |\n",
      " |  roll(self, n_rolls=1)\n",
      " |      Roll the die a number of times.\n",
      " |\n",
      " |      Args:\n",
      " |          n_rolls (int): Number of times to roll. Defaults to 1.\n",
      " |\n",
      " |      Returns:\n",
      " |          list: List of outcomes.\n",
      " |\n",
      " |  show(self)\n",
      " |      Show current die faces and weights.\n",
      " |\n",
      " |      Returns:\n",
      " |          pd.DataFrame: A copy of the die's internal state.\n",
      " |\n",
      " |  ----------------------------------------------------------------------\n",
      " |  Data descriptors defined here:\n",
      " |\n",
      " |  __dict__\n",
      " |      dictionary for instance variables\n",
      " |\n",
      " |  __weakref__\n",
      " |      list of weak references to the object\n",
      "\n",
      "Help on class Game in module game:\n",
      "\n",
      "class Game(builtins.object)\n",
      " |  Game(dice)\n",
      " |\n",
      " |  A Game object consists of rolling one or more Die objects a given number of times.\n",
      " |  Stores only the result of the most recent play.\n",
      " |\n",
      " |  Methods defined here:\n",
      " |\n",
      " |  __init__(self, dice)\n",
      " |      Initializes a Game with a list of similar Die objects.\n",
      " |\n",
      " |      Args:\n",
      " |          dice (list): A list of Die objects.\n",
      " |\n",
      " |  play(self, num_rolls)\n",
      " |      Rolls the dice a given number of times and stores the result.\n",
      " |\n",
      " |      Args:\n",
      " |          num_rolls (int): Number of times to roll the dice.\n",
      " |\n",
      " |  show_results(self, form='wide')\n",
      " |      Returns the results of the most recent play.\n",
      " |\n",
      " |      Args:\n",
      " |          form (str): Either 'wide' (default) or 'narrow'.\n",
      " |\n",
      " |      Returns:\n",
      " |          pd.DataFrame: Results in the specified format.\n",
      " |\n",
      " |      Raises:\n",
      " |          ValueError: If form is not 'wide' or 'narrow'.\n",
      " |\n",
      " |  ----------------------------------------------------------------------\n",
      " |  Data descriptors defined here:\n",
      " |\n",
      " |  __dict__\n",
      " |      dictionary for instance variables\n",
      " |\n",
      " |  __weakref__\n",
      " |      list of weak references to the object\n",
      "\n",
      "Help on class Analyzer in module analyzer:\n",
      "\n",
      "class Analyzer(builtins.object)\n",
      " |  Analyzer(game)\n",
      " |\n",
      " |  Analyzer performs statistical analysis on a Game object's most recent play.\n",
      " |\n",
      " |  Methods defined here:\n",
      " |\n",
      " |  __init__(self, game)\n",
      " |      Initializes the Analyzer with a Game object.\n",
      " |\n",
      " |      Args:\n",
      " |          game (Game): A Game instance.\n",
      " |\n",
      " |      Raises:\n",
      " |          ValueError: If input is not a Game instance.\n",
      " |\n",
      " |  combo_count(self)\n",
      " |      Counts order-independent combinations and their frequencies.\n",
      " |\n",
      " |      Returns:\n",
      " |          pd.DataFrame: MultiIndex of combinations with count.\n",
      " |\n",
      " |  face_counts_per_roll(self)\n",
      " |      Counts occurrences of each face per roll.\n",
      " |\n",
      " |      Returns:\n",
      " |          pd.DataFrame: Roll index, face columns, count values.\n",
      " |\n",
      " |  jackpot(self)\n",
      " |      Counts how many times all dice rolled the same face,\n",
      " |      in the most recent roll.\n",
      " |\n",
      " |\n",
      " |      Returns:\n",
      " |          int: Number of jackpot rolls.\n",
      " |\n",
      " |  permutation_count(self)\n",
      " |      Counts order-dependent permutations and their frequencies.\n",
      " |\n",
      " |      Returns:\n",
      " |          pd.DataFrame: MultiIndex of permutations with count.\n",
      " |\n",
      " |  ----------------------------------------------------------------------\n",
      " |  Data descriptors defined here:\n",
      " |\n",
      " |  __dict__\n",
      " |      dictionary for instance variables\n",
      " |\n",
      " |  __weakref__\n",
      " |      list of weak references to the object\n",
      "\n"
     ]
    }
   ],
   "source": [
    "# help(montecarlo)\n",
    "help(Die)\n",
    "help(Game)\n",
    "help(Analyzer)"
   ]
  },
  {
   "cell_type": "markdown",
   "id": "a9defa84-b395-4966-bd1c-5c6c2bb7ed68",
   "metadata": {},
   "source": [
    "## `README.md` File (3)\n",
    "\n",
    "Provide link to the README.md file of your project's repo.\n",
    "\n",
    "- Metadata section or info present (1).\n",
    "- Synopsis section showing how each class is called (1). (All must be included.)\n",
    "- API section listing all classes and methods (1). (All must be included.)"
   ]
  },
  {
   "cell_type": "markdown",
   "id": "ee090b33-d593-48a0-bf35-e739cea0942c",
   "metadata": {},
   "source": [
    "URL:"
   ]
  },
  {
   "cell_type": "markdown",
   "id": "108604c8-8827-42ef-ab59-6b25428fc0ca",
   "metadata": {},
   "source": [
    "## Successful installation (2)\n",
    "\n",
    "Put a screenshot or paste a copy of a terminal session where you successfully install your module with pip.\n",
    "\n",
    "If pasting text, use a preformatted text block to show the results.\n",
    "\n",
    "- Installed with `pip` (1).\n",
    "- Successfully installed message appears (1)."
   ]
  },
  {
   "cell_type": "raw",
   "id": "1278db6a-aa53-4e5c-a749-93a87ab239e0",
   "metadata": {},
   "source": [
    "# Pasted code\n",
    "$ pip install -e .\n",
    "Defaulting to user installation because normal site-packages is not writeable\n",
    "Obtaining file:///C:/Users/hangy/OneDrive/Data%20Science/Programming%20for%20Data%20Science%20-%20DS%205100/ds5100_final_project_files\n",
    "  Preparing metadata (setup.py) ... done\n",
    "Requirement already satisfied: numpy in c:\\users\\hangy\\appdata\\roaming\\python\\python310\\site-packages (from ds5100_final_project==0.1.0) (2.2.5)\n",
    "Requirement already satisfied: pandas in c:\\users\\hangy\\appdata\\roaming\\python\\python310\\site-packages (from ds5100_final_project==0.1.0) (2.2.3)\n",
    "Requirement already satisfied: python-dateutil>=2.8.2 in c:\\users\\hangy\\appdata\\roaming\\python\\python310\\site-packages (from pandas->ds5100_final_project==0.1.0) (2.9.0.post0)\n",
    "Requirement already satisfied: pytz>=2020.1 in c:\\users\\hangy\\appdata\\roaming\\python\\python310\\site-packages (from pandas->ds5100_final_project==0.1.0) (2025.2)\n",
    "Requirement already satisfied: tzdata>=2022.7 in c:\\users\\hangy\\appdata\\roaming\\python\\python310\\site-packages (from pandas->ds5100_final_project==0.1.0) (2025.2)\n",
    "Requirement already satisfied: six>=1.5 in c:\\users\\hangy\\appdata\\roaming\\python\\python310\\site-packages (from python-dateutil>=2.8.2->pandas->ds5100_final_project==0.1.0) (1.17.0)\n",
    "Installing collected packages: ds5100_final_project\n",
    "  Running setup.py develop for ds5100_final_project\n",
    "Successfully installed ds5100_final_project-0.1.0"
   ]
  },
  {
   "cell_type": "markdown",
   "id": "7c44695d-d1b3-4edf-9f94-e64d7446f199",
   "metadata": {},
   "source": [
    "# Scenarios\n",
    "\n",
    "Use code blocks to perform the tasks for each scenario.\n",
    "\n",
    "Be sure the outputs are visible before submitting."
   ]
  },
  {
   "cell_type": "markdown",
   "id": "e2479eae-6fc9-44cd-b8d7-9b22cb501f2a",
   "metadata": {
    "tags": []
   },
   "source": [
    "## Scenario 1: A 2-headed Coin (9)\n",
    "\n",
    "Task 1. Create a fair coin (with faces $H$ and $T$) and one unfair coin in which one of the faces has a weight of $5$ and the others $1$.\n",
    "\n",
    "- Fair coin created (1).\n",
    "- Unfair coin created with weight as specified (1)."
   ]
  },
  {
   "cell_type": "code",
   "execution_count": 20,
   "id": "55ce498e-c75f-4425-9e3e-b635bd6cd9e1",
   "metadata": {},
   "outputs": [
    {
     "name": "stdout",
     "output_type": "stream",
     "text": [
      "Fair coin:\n",
      "   weight\n",
      "H     1.0\n",
      "T     1.0 \n",
      "\n",
      "Unfair coin:\n",
      "   weight\n",
      "H     5.0\n",
      "T     1.0\n"
     ]
    }
   ],
   "source": [
    "# Create a fair coin and an unfair coin\n",
    "import numpy as np\n",
    "from die import Die\n",
    "\n",
    "faces = np.array(['H', 'T'])\n",
    "fair_coin   = Die(faces)\n",
    "unfair_coin = Die(faces)\n",
    "unfair_coin.change_weight('H', 5)    # make 'H' five times more likely than 'T'\n",
    "\n",
    "print(\"Fair coin:\")\n",
    "print(fair_coin.show(), \"\\n\")\n",
    "print(\"Unfair coin:\")\n",
    "print(unfair_coin.show())"
   ]
  },
  {
   "cell_type": "markdown",
   "id": "02b272ab-99da-4b6e-ac2a-555b73e09c07",
   "metadata": {},
   "source": [
    "Task 2. Play a game of $1000$ flips with two fair dice.\n",
    "\n",
    "- Play method called correctly and without error (1)."
   ]
  },
  {
   "cell_type": "code",
   "execution_count": 22,
   "id": "65c92601-d32d-4326-b215-74953aee27f2",
   "metadata": {},
   "outputs": [
    {
     "name": "stdout",
     "output_type": "stream",
     "text": [
      "Played 1000 flips with two fair coins—no errors.\n"
     ]
    }
   ],
   "source": [
    "# Play a game of 1000 flips with two fair coins\n",
    "from game import Game\n",
    "\n",
    "game_fair = Game([fair_coin, Die(faces)])   # two fresh fair coins\n",
    "game_fair.play(1000)\n",
    "print(\"Played 1000 flips with two fair coins—no errors.\")"
   ]
  },
  {
   "cell_type": "markdown",
   "id": "7d9c3dc8-22c1-4cae-81fb-d68d774a05d1",
   "metadata": {},
   "source": [
    "Task 3. Play another game (using a new Game object) of $1000$ flips, this time using two unfair dice and one fair die. For the second unfair die, you can use the same die object twice in the list of dice you pass to the Game object.\n",
    "\n",
    "- New game object created (1).\n",
    "- Play method called correctly and without error (1)."
   ]
  },
  {
   "cell_type": "code",
   "execution_count": 24,
   "id": "d4098bed-1eb2-4084-8d5e-9fda07c3be43",
   "metadata": {},
   "outputs": [
    {
     "name": "stdout",
     "output_type": "stream",
     "text": [
      "Played 1000 flips with two unfair coins & one fair coin—no errors.\n"
     ]
    }
   ],
   "source": [
    "# Play another game of 1000 flips with two unfair coins and one fair coin\n",
    "game_unfair = Game([unfair_coin, unfair_coin, fair_coin])\n",
    "game_unfair.play(1000)\n",
    "print(\"Played 1000 flips with two unfair coins & one fair coin—no errors.\")"
   ]
  },
  {
   "cell_type": "markdown",
   "id": "f690ebfc-fe71-4eb2-976d-7ac80ca6c23f",
   "metadata": {},
   "source": [
    "Task 4. For each game, use an Analyzer object to determine the raw frequency of jackpots — i.e. getting either all $H$s or all $T$s.\n",
    "\n",
    "- Analyzer objects instantiated for both games (1).\n",
    "- Raw frequencies reported for both (1)."
   ]
  },
  {
   "cell_type": "code",
   "execution_count": 57,
   "id": "b26b8b7e-3be7-4476-a9a4-37d97536729e",
   "metadata": {},
   "outputs": [
    {
     "name": "stdout",
     "output_type": "stream",
     "text": [
      "Raw jackpots (fair): 509\n",
      "Raw jackpots (unfair): 362\n"
     ]
    }
   ],
   "source": [
    "# Use Analyzer to get raw jackpot counts for both games\n",
    "from analyzer import Analyzer\n",
    "\n",
    "ana_fair   = Analyzer(game_fair)\n",
    "ana_unfair = Analyzer(game_unfair)\n",
    "\n",
    "raw_fair   = ana_fair.jackpot()\n",
    "raw_unfair = ana_unfair.jackpot()\n",
    "\n",
    "print(\"Raw jackpots (fair):\", raw_fair)\n",
    "print(\"Raw jackpots (unfair):\", raw_unfair)"
   ]
  },
  {
   "cell_type": "markdown",
   "id": "b73d233c-445e-40cd-8858-0c5e1f097105",
   "metadata": {},
   "source": [
    "Task 5. For each analyzer, compute relative frequency as the number of jackpots over the total number of rolls.\n",
    "\n",
    "- Both relative frequencies computed (1)."
   ]
  },
  {
   "cell_type": "code",
   "execution_count": 59,
   "id": "9a96b31b-1b9d-496e-be3e-4bf83c45ec3a",
   "metadata": {},
   "outputs": [
    {
     "name": "stdout",
     "output_type": "stream",
     "text": [
      "Relative jackpot freq (fair): 0.509\n",
      "Relative jackpot freq (unfair): 0.362\n"
     ]
    }
   ],
   "source": [
    "# Compute relative frequencies (jackpots ÷ total rolls)\n",
    "relative_fair   = raw_fair   / 1000\n",
    "relative_unfair = raw_unfair / 1000\n",
    "\n",
    "print(\"Relative jackpot freq (fair):\",   relative_fair)\n",
    "print(\"Relative jackpot freq (unfair):\", relative_unfair)"
   ]
  },
  {
   "cell_type": "markdown",
   "id": "a6e1e734-7f5c-4721-8ba4-2f3a424cf984",
   "metadata": {},
   "source": [
    "Task 6. Show your results, comparing the two relative frequencies, in a simple bar chart.\n",
    "\n",
    "- Bar chart plotted and correct (1)."
   ]
  },
  {
   "cell_type": "code",
   "execution_count": 61,
   "id": "473fa67c-aa53-4aa3-a0b7-e8772b3f6ed3",
   "metadata": {},
   "outputs": [
    {
     "data": {
      "image/png": "[encoded data removed]",
      "text/plain": [
       "<Figure size 640x480 with 1 Axes>"
      ]
     },
     "metadata": {},
     "output_type": "display_data"
    }
   ],
   "source": [
    "# Bar chart comparing the two relative frequencies\n",
    "import matplotlib.pyplot as plt\n",
    "\n",
    "labels = ['Fair', 'Unfair']\n",
    "values = [relative_fair, relative_unfair]\n",
    "\n",
    "plt.bar(labels, values)\n",
    "plt.ylabel('Relative Jackpot Frequency')\n",
    "plt.title('Fair vs. Unfair 2-headed Coin Jackpot Rates')\n",
    "plt.ylim(0, 1)\n",
    "plt.show()"
   ]
  },
  {
   "cell_type": "markdown",
   "id": "725cfa5b-e4b7-47c9-86aa-8d9e1fe6c8c7",
   "metadata": {},
   "source": [
    "## Scenario 2: A 6-sided Die (9)\n",
    "\n",
    "Task 1. Create three dice, each with six sides having the faces 1 through 6.\n",
    "\n",
    "- Three die objects created (1)."
   ]
  },
  {
   "cell_type": "code",
   "execution_count": 67,
   "id": "6a8bc611-325a-4e05-88d5-980e0a2cf7c5",
   "metadata": {},
   "outputs": [
    {
     "name": "stdout",
     "output_type": "stream",
     "text": [
      "d1 weights:\n",
      "    weight\n",
      "1     1.0\n",
      "2     1.0\n",
      "3     1.0\n",
      "4     1.0\n",
      "5     1.0\n",
      "6     1.0 \n",
      "\n",
      "d2 weights:\n",
      "    weight\n",
      "1     1.0\n",
      "2     1.0\n",
      "3     1.0\n",
      "4     1.0\n",
      "5     1.0\n",
      "6     1.0 \n",
      "\n",
      "d3 weights:\n",
      "    weight\n",
      "1     1.0\n",
      "2     1.0\n",
      "3     1.0\n",
      "4     1.0\n",
      "5     1.0\n",
      "6     1.0\n"
     ]
    }
   ],
   "source": [
    "# Task: Create three standard 6-faced dice\n",
    "import numpy as np\n",
    "from die import Die\n",
    "\n",
    "faces6 = np.array([1, 2, 3, 4, 5, 6])\n",
    "d1 = Die(faces6)\n",
    "d2 = Die(faces6)\n",
    "d3 = Die(faces6)\n",
    "\n",
    "print(\"d1 weights:\\n\", d1.show(), \"\\n\")\n",
    "print(\"d2 weights:\\n\", d2.show(), \"\\n\")\n",
    "print(\"d3 weights:\\n\", d3.show())"
   ]
  },
  {
   "cell_type": "markdown",
   "id": "2ed3ad26-fbe9-43bd-9ad7-f683a4191d12",
   "metadata": {},
   "source": [
    "Task 2. Convert one of the dice to an unfair one by weighting the face $6$ five times more than the other weights (i.e. it has weight of 5 and the others a weight of 1 each).\n",
    "\n",
    "- Unfair die created with proper call to weight change method (1)."
   ]
  },
  {
   "cell_type": "code",
   "execution_count": 69,
   "id": "e33dd18f-7f90-456d-a680-61c08a328e21",
   "metadata": {},
   "outputs": [
    {
     "name": "stdout",
     "output_type": "stream",
     "text": [
      "After weighting d2:\n",
      "    weight\n",
      "1     1.0\n",
      "2     1.0\n",
      "3     1.0\n",
      "4     1.0\n",
      "5     1.0\n",
      "6     5.0\n"
     ]
    }
   ],
   "source": [
    "# Task: Make d2 unfair by weighting face 6 five times more\n",
    "d2.change_weight(6, 5)\n",
    "print(\"After weighting d2:\\n\", d2.show())"
   ]
  },
  {
   "cell_type": "markdown",
   "id": "7f6c062a-4c5b-45b9-96b8-76a0354c7e47",
   "metadata": {},
   "source": [
    "Task 3. Convert another of the dice to be unfair by weighting the face $1$ five times more than the others.\n",
    "\n",
    "- Unfair die created with proper call to weight change method (1)."
   ]
  },
  {
   "cell_type": "code",
   "execution_count": 71,
   "id": "01133a4e-6b06-4246-8d90-8e6d6995be51",
   "metadata": {},
   "outputs": [
    {
     "name": "stdout",
     "output_type": "stream",
     "text": [
      "After weighting d3:\n",
      "    weight\n",
      "1     5.0\n",
      "2     1.0\n",
      "3     1.0\n",
      "4     1.0\n",
      "5     1.0\n",
      "6     1.0\n"
     ]
    }
   ],
   "source": [
    "# Task: Make d3 unfair by weighting face 1 five times more\n",
    "d3.change_weight(1, 5)\n",
    "print(\"After weighting d3:\\n\", d3.show())"
   ]
  },
  {
   "cell_type": "markdown",
   "id": "f0ed31cb-0a3c-4eb2-b85e-6ed6b2eb6e58",
   "metadata": {},
   "source": [
    "Task 4. Play a game of $10000$ rolls with $5$ fair dice.\n",
    "\n",
    "- Game class properly instantiated (1). \n",
    "- Play method called properly (1)."
   ]
  },
  {
   "cell_type": "code",
   "execution_count": 89,
   "id": "e92395a4-9ed8-4cb0-8c85-38768a784ffc",
   "metadata": {},
   "outputs": [
    {
     "name": "stdout",
     "output_type": "stream",
     "text": [
      "Played 1000 rolls with five fair dice — no errors.\n",
      "      0  1  2  3  4\n",
      "Roll               \n",
      "0     3  1  2  6  6\n",
      "1     1  6  6  6  6\n",
      "2     5  5  2  4  5\n",
      "3     4  2  3  5  1\n",
      "4     1  5  5  6  5 \n",
      "\n"
     ]
    }
   ],
   "source": [
    "# Task: Play 10000 rolls with five fair dice\n",
    "from game import Game\n",
    "\n",
    "game_fair5 = Game([Die(faces6), Die(faces6), Die(faces6), Die(faces6), Die(faces6)])\n",
    "game_fair5.play(10000)\n",
    "print(\"Played 1000 rolls with five fair dice — no errors.\")\n",
    "print(game_fair5.show_results().head(), \"\\n\")"
   ]
  },
  {
   "cell_type": "markdown",
   "id": "7814b402-46a4-40e5-8141-20e05c3e646b",
   "metadata": {},
   "source": [
    "Task 5. Play another game of $10000$ rolls, this time with $2$ unfair dice, one as defined in steps #2 and #3 respectively, and $3$ fair dice.\n",
    "\n",
    "- Game class properly instantiated (1). \n",
    "- Play method called properly (1)."
   ]
  },
  {
   "cell_type": "code",
   "execution_count": 91,
   "id": "7cd58fba-b2a5-4d5d-bc6d-2a7a68d18c4f",
   "metadata": {},
   "outputs": [
    {
     "name": "stdout",
     "output_type": "stream",
     "text": [
      "Played 1000 rolls with three fair dice and two unfair dice — no errors.\n",
      "      0  1  2  3  4\n",
      "Roll               \n",
      "0     3  1  2  6  6\n",
      "1     1  6  6  6  6\n",
      "2     5  5  2  4  5\n",
      "3     4  2  3  5  1\n",
      "4     1  5  5  6  5 \n",
      "\n"
     ]
    }
   ],
   "source": [
    "# Task: Play 10000 rolls with two unfair dice, as defined in Step #2 and Step #3\n",
    "from game import Game\n",
    "\n",
    "game_unfair5 = Game([Die(faces6), Die(faces6), Die(faces6), d2, d3])\n",
    "game_unfair5.play(10000)\n",
    "print(\"Played 1000 rolls with three fair dice and two unfair dice — no errors.\")\n",
    "print(game_fair5.show_results().head(), \"\\n\")"
   ]
  },
  {
   "cell_type": "markdown",
   "id": "7b6cd372-2bb8-4df8-ade1-8f48bc300955",
   "metadata": {},
   "source": [
    "Task 6. For each game, use an Analyzer object to determine the relative frequency of jackpots and show your results, comparing the two relative frequencies, in a simple bar chart.\n",
    "\n",
    "- Jackpot methods called (1).\n",
    "- Graph produced (1)."
   ]
  },
  {
   "cell_type": "code",
   "execution_count": 99,
   "id": "bbdcf695-8937-406e-9b53-aa0b9ee3c59a",
   "metadata": {},
   "outputs": [
    {
     "data": {
      "image/png": "[encoded data removed]",
      "text/plain": [
       "<Figure size 640x480 with 1 Axes>"
      ]
     },
     "metadata": {},
     "output_type": "display_data"
    }
   ],
   "source": [
    "from analyzer import Analyzer\n",
    "import matplotlib.pyplot as plt\n",
    "\n",
    "# Instantiate analyzers\n",
    "ana_fair5   = Analyzer(game_fair5)\n",
    "ana_unfair5 = Analyzer(game_unfair5)\n",
    "\n",
    "# Compute relative jackpot frequencies\n",
    "rel_fair5   = ana_fair5.jackpot() / 10000\n",
    "rel_unfair5 = ana_unfair5.jackpot() / 10000\n",
    "\n",
    "# Plot comparison\n",
    "plt.bar(\n",
    "    ['5 Fair d6', '2 Unfair + 3 Fair'],\n",
    "    [rel_fair5, rel_unfair5]\n",
    ")\n",
    "plt.ylabel('Relative Jackpot Frequency')\n",
    "plt.title('5 Fair vs 2 Unfair+3 Fair 6-face Dice Jackpot Rates')\n",
    "plt.ylim(0, 0.001)\n",
    "plt.show()"
   ]
  },
  {
   "cell_type": "markdown",
   "id": "9f04e9be-8fcf-4ea4-a391-6614608285f8",
   "metadata": {},
   "source": [
    "## Scenario 3: Letters of the Alphabet (7)\n",
    "\n",
    "Task 1. Create a \"die\" of letters from $A$ to $Z$ with weights based on their frequency of usage as found in the data file `english_letters.txt`. Use the frequencies (i.e. raw counts) as weights.\n",
    "\n",
    "- Die correctly instantiated with source file data (1).\n",
    "- Weights properly applied using weight setting method (1)."
   ]
  },
  {
   "cell_type": "code",
   "execution_count": 105,
   "id": "b0ceb771-3cdf-4d8f-8c2c-020806bbb909",
   "metadata": {},
   "outputs": [
    {
     "name": "stdout",
     "output_type": "stream",
     "text": [
      "Letter‐die (first few faces & weights):\n",
      "        weight\n",
      "E  529117365.0\n",
      "T  390965105.0\n",
      "A  374061888.0\n",
      "O  326627740.0\n",
      "I  320410057.0 \n",
      "\n"
     ]
    }
   ],
   "source": [
    "import pandas as pd\n",
    "import numpy as np\n",
    "from die import Die\n",
    "from game import Game\n",
    "from analyzer import Analyzer\n",
    "\n",
    "# Create an abstract “letter” die weighted by raw English‐letter frequencies\n",
    "freq_df = pd.read_csv('english_letters.txt', sep=r'\\s+', header=None, names=['Letter','Freq'])\n",
    "letters = freq_df['Letter'].to_numpy()\n",
    "d_letters = Die(letters)\n",
    "for letter, freq in zip(freq_df['Letter'], freq_df['Freq']):\n",
    "    d_letters.change_weight(letter, freq)\n",
    "\n",
    "print(\"Letter‐die (first few faces & weights):\")\n",
    "print(d_letters.show().head(), \"\\n\")"
   ]
  },
  {
   "cell_type": "markdown",
   "id": "88e2e14a-6223-470a-a2c8-bca1120d7a5b",
   "metadata": {},
   "source": [
    "Task 2. Play a game involving $4$ of these dice with $1000$ rolls.\n",
    "\n",
    "- Game play method properly called (1)."
   ]
  },
  {
   "cell_type": "code",
   "execution_count": 107,
   "id": "2ae087cc-936d-4f1e-bddb-a7c179d139e0",
   "metadata": {},
   "outputs": [
    {
     "name": "stdout",
     "output_type": "stream",
     "text": [
      "Played a game with 4 letter dice for 1000 rolls. \n",
      "\n"
     ]
    }
   ],
   "source": [
    "# Play a game with 4 dices created in Task 1 for 1000 rolls\n",
    "dice4 = []\n",
    "for i in range(4):\n",
    "    d = Die(letters)\n",
    "    for letter, freq in zip(freq_df['Letter'], freq_df['Freq']):\n",
    "        d.change_weight(letter, freq)\n",
    "    dice4.append(d)\n",
    "\n",
    "game4 = Game(dice4)\n",
    "game4.play(1000)\n",
    "print(\"Played a game with 4 letter dice for 1000 rolls. \\n\")"
   ]
  },
  {
   "cell_type": "markdown",
   "id": "3b9ff800-bf1f-4f66-9d7f-ff57a648e9f0",
   "metadata": {},
   "source": [
    "Task 3. Determine how many permutations in your results are actual English words, based on the vocabulary found in `scrabble_words.txt`.\n",
    "\n",
    "- Use permutation method (1).\n",
    "- Get count as difference between permutations and vocabulary (1)."
   ]
  },
  {
   "cell_type": "code",
   "execution_count": 112,
   "id": "ed1c7fa0-cfa3-4cf4-9fd0-9f84b86b0f64",
   "metadata": {},
   "outputs": [
    {
     "name": "stdout",
     "output_type": "stream",
     "text": [
      "Distinct valid 4-letter words found: 57\n"
     ]
    }
   ],
   "source": [
    "# Load Scrable Words into a set for lookup\n",
    "with open('scrabble_words.txt') as file:\n",
    "    vocabulary = {word.strip().upper() for word in file}\n",
    "    \n",
    "# Get the full permutation counts from the game Analyzer\n",
    "analyzer4 = Analyzer(game4)\n",
    "perm_df4 = analyzer4.permutation_count()\n",
    "\n",
    "# Join each tuple into a string and test membership in vocab\n",
    "perms     = [''.join(p) for p in perm_df4.index]\n",
    "valid_perms = [word for word in perms if word in vocabulary]\n",
    "\n",
    "# Report the result\n",
    "count4 = len(valid_perms)\n",
    "print(f\"Distinct valid 4-letter words found: {count4}\")"
   ]
  },
  {
   "cell_type": "markdown",
   "id": "fcf068cf-381a-4b3e-ac3a-0510eb4dbdb0",
   "metadata": {},
   "source": [
    "Task 4. Repeat steps #2 and #3, this time with $5$ dice. How many actual words does this produce? Which produces more?\n",
    "\n",
    "- Successfully repreats steps (1).\n",
    "- Identifies parameter with most found words (1)."
   ]
  },
  {
   "cell_type": "code",
   "execution_count": 116,
   "id": "3aee94a2-8bf6-4ada-8ab2-39d293082b5b",
   "metadata": {},
   "outputs": [
    {
     "name": "stdout",
     "output_type": "stream",
     "text": [
      "Played a game with 5 letter dice for 1000 rolls. \n",
      "\n",
      "Distinct valid 5-letter words found: 5\n"
     ]
    }
   ],
   "source": [
    "# Play a game with 5 dices created in Task 1 for 1000 rolls\n",
    "dice5 = []\n",
    "for i in range(5):\n",
    "    d = Die(letters)\n",
    "    for letter, freq in zip(freq_df['Letter'], freq_df['Freq']):\n",
    "        d.change_weight(letter, freq)\n",
    "    dice5.append(d)\n",
    "\n",
    "game5 = Game(dice5)\n",
    "game5.play(1000)\n",
    "print(\"Played a game with 5 letter dice for 1000 rolls. \\n\")\n",
    "\n",
    "# Load Scrable Words into a set for lookup\n",
    "with open('scrabble_words.txt') as file:\n",
    "    vocabulary = {word.strip().upper() for word in file}\n",
    "    \n",
    "# Get the full permutation counts from the game Analyzer\n",
    "analyzer5 = Analyzer(game5)\n",
    "perm_df5 = analyzer5.permutation_count()\n",
    "\n",
    "# Join each tuple into a string and test membership in vocab\n",
    "perms     = [''.join(p) for p in perm_df5.index]\n",
    "valid_perms = [word for word in perms if word in vocabulary]\n",
    "\n",
    "# Report the result\n",
    "count5 = len(valid_perms)\n",
    "print(f\"Distinct valid 5-letter words found: {count5}\")"
   ]
  },
  {
   "cell_type": "code",
   "execution_count": null,
   "id": "1853102e-9e5a-4a42-b650-934519c83b70",
   "metadata": {},
   "outputs": [],
   "source": []
  }
 ],
 "metadata": {
  "kernelspec": {
   "display_name": "Python 3 (ipykernel)",
   "language": "python",
   "name": "python3"
  },
  "language_info": {
   "codemirror_mode": {
    "name": "ipython",
    "version": 3
   },
   "file_extension": ".py",
   "mimetype": "text/x-python",
   "name": "python",
   "nbconvert_exporter": "python",
   "pygments_lexer": "ipython3",
   "version": "3.12.4"
  },
  "toc-autonumbering": true,
  "widgets": {
   "application/vnd.jupyter.widget-state+json": {
    "state": {},
    "version_major": 2,
    "version_minor": 0
   }
  }
 },
 "nbformat": 4,
 "nbformat_minor": 5
}
